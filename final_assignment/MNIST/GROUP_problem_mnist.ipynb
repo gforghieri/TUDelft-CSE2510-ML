{
 "cells": [
  {
   "cell_type": "markdown",
   "metadata": {},
   "source": [
    "# MNIST"
   ]
  },
  {
   "cell_type": "code",
   "execution_count": 1,
   "metadata": {},
   "outputs": [],
   "source": [
    "import numpy as np\n",
    "import pandas as pd\n",
    "\n",
    "from sklearn.naive_bayes import GaussianNB\n",
    "from sklearn.dummy import DummyClassifier\n",
    "from sklearn.tree import DecisionTreeClassifier\n",
    "from sklearn.svm import SVC\n",
    "from sklearn.neighbors import KNeighborsClassifier\n",
    "from sklearn.linear_model import LogisticRegression\n",
    "\n",
    "import matplotlib.pyplot as plt"
   ]
  },
  {
   "cell_type": "markdown",
   "metadata": {},
   "source": [
    "## Global config"
   ]
  },
  {
   "cell_type": "code",
   "execution_count": 2,
   "metadata": {},
   "outputs": [],
   "source": [
    "# TODO"
   ]
  },
  {
   "cell_type": "markdown",
   "metadata": {},
   "source": [
    "## Load data"
   ]
  },
  {
   "cell_type": "code",
   "execution_count": 3,
   "metadata": {},
   "outputs": [],
   "source": [
    "mnist_28x28_train = np.load(\"mnist_28x28_train.npy\")\n",
    "mnist_8x8_train = np.load(\"mnist_8x8_train.npy\")\n",
    "train_labels = np.load(\"train_labels.npy\")\n",
    "\n",
    "mnist_28x28_test = np.load(\"mnist_28x28_test.npy\")\n",
    "mnist_8x8_test = np.load(\"mnist_8x8_test.npy\")"
   ]
  },
  {
   "cell_type": "markdown",
   "metadata": {},
   "source": [
    "## Helpers"
   ]
  },
  {
   "cell_type": "code",
   "execution_count": 4,
   "metadata": {},
   "outputs": [],
   "source": [
    "# TODO"
   ]
  },
  {
   "cell_type": "markdown",
   "metadata": {},
   "source": [
    "##  Data exploration"
   ]
  },
  {
   "cell_type": "markdown",
   "metadata": {},
   "source": [
    "### Question 1\n",
    "Hint: `plt.imshow`"
   ]
  },
  {
   "cell_type": "code",
   "execution_count": 5,
   "metadata": {
    "scrolled": true
   },
   "outputs": [
    {
     "data": {
      "image/png": "[encoded data removed]",
      "text/plain": [
       "<Figure size 432x288 with 1 Axes>"
      ]
     },
     "metadata": {
      "needs_background": "light"
     },
     "output_type": "display_data"
    },
    {
     "data": {
      "image/png": "[encoded data removed]",
      "text/plain": [
       "<Figure size 432x288 with 1 Axes>"
      ]
     },
     "metadata": {
      "needs_background": "light"
     },
     "output_type": "display_data"
    },
    {
     "data": {
      "image/png": "[encoded data removed]",
      "text/plain": [
       "<Figure size 432x288 with 1 Axes>"
      ]
     },
     "metadata": {
      "needs_background": "light"
     },
     "output_type": "display_data"
    },
    {
     "data": {
      "image/png": "[encoded data removed]",
      "text/plain": [
       "<Figure size 432x288 with 1 Axes>"
      ]
     },
     "metadata": {
      "needs_background": "light"
     },
     "output_type": "display_data"
    },
    {
     "data": {
      "image/png": "[encoded data removed]",
      "text/plain": [
       "<Figure size 432x288 with 1 Axes>"
      ]
     },
     "metadata": {
      "needs_background": "light"
     },
     "output_type": "display_data"
    },
    {
     "data": {
      "image/png": "[encoded data removed]",
      "text/plain": [
       "<Figure size 432x288 with 1 Axes>"
      ]
     },
     "metadata": {
      "needs_background": "light"
     },
     "output_type": "display_data"
    }
   ],
   "source": [
    "for i in range(3):\n",
    "    digit_image = mnist_28x28_train[i]\n",
    "    plt.figure()\n",
    "    plt.gray()\n",
    "    plt.title(\"digit: \" + str(train_labels[i]))\n",
    "    plt.imshow(digit_image)\n",
    "\n",
    "for i in range(3):\n",
    "    digit_image = mnist_8x8_train[i]\n",
    "    plt.figure()\n",
    "    plt.gray()\n",
    "    plt.title(\"digit: \" + str(train_labels[i]))\n",
    "    plt.imshow(digit_image)"
   ]
  },
  {
   "cell_type": "markdown",
   "metadata": {},
   "source": [
    "##  Data Preparations"
   ]
  },
  {
   "cell_type": "markdown",
   "metadata": {},
   "source": [
    "### Question 1"
   ]
  },
  {
   "cell_type": "code",
   "execution_count": 8,
   "metadata": {},
   "outputs": [],
   "source": [
    "from sklearn.model_selection import train_test_split\n",
    "from sklearn.preprocessing import MinMaxScaler, Normalizer\n",
    "\n",
    "# 1. split data\n",
    "# 2. flatten 3d to 2d\n",
    "# 3. scale\n",
    "# 4. fit\n",
    "# 5. predict\n",
    "# 6. evaluate\n",
    "# 7. graph/plot\n",
    "# 8. analyze\n",
    "\n",
    "\n",
    "# 1. split data\n",
    "X_train_28x28, X_test_28x28, y_train, y_test = train_test_split(mnist_28x28_train, train_labels, test_size=0.3,\n",
    "                                                                random_state=42, shuffle=True, stratify=train_labels)\n",
    "X_train_8x8, X_test_8x8, y_train, y_test = train_test_split(mnist_8x8_train, train_labels, test_size=0.3,\n",
    "                                                            random_state=42, shuffle=True, stratify=train_labels)\n",
    "\n",
    "# 2. flatten 3d to 2d\n",
    "# flatten the features of the data, instead of (,28,28) to (,784)\n",
    "flat_X_train_28x28 = X_train_28x28.reshape(X_train_28x28.shape[0], -1)\n",
    "flat_X_test_28x28 = X_test_28x28.reshape(X_test_28x28.shape[0], -1)\n",
    "\n",
    "# flatten the features of the data, instead of (,8,8 to ,64)\n",
    "flat_X_train_8x8 = X_train_8x8.reshape(X_train_8x8.shape[0], -1)\n",
    "flat_X_test_8x8 = X_test_8x8.reshape(X_test_8x8.shape[0], -1)\n",
    "\n",
    "# 3. scale\n",
    "# scale both train and test features from rgb (0-255) to black & white (0-1)\n",
    "min_max_scaler_28x28 = MinMaxScaler()\n",
    "min_max_scaler_8x8 = MinMaxScaler()\n",
    "\n",
    "min_max_scaler_28x28.fit(flat_X_train_28x28)\n",
    "min_max_scaler_8x8.fit(flat_X_train_8x8)\n",
    "\n",
    "scaled_X_train_28x28 = min_max_scaler_28x28.transform(flat_X_train_28x28)\n",
    "scaled_X_test_28x28 = min_max_scaler_28x28.transform(flat_X_test_28x28)\n",
    "\n",
    "scaled_X_train_8x8 = min_max_scaler_8x8.transform(X=flat_X_train_8x8)\n",
    "scaled_X_test_8x8 = min_max_scaler_8x8.transform(X=flat_X_test_8x8)"
   ]
  },
  {
   "cell_type": "markdown",
   "metadata": {},
   "source": [
    "## Experiments"
   ]
  },
  {
   "cell_type": "markdown",
   "metadata": {},
   "source": [
    "### Question 1"
   ]
  },
  {
   "cell_type": "code",
   "execution_count": 9,
   "metadata": {},
   "outputs": [
    {
     "name": "stdout",
     "output_type": "stream",
     "text": [
      "This question has been answered in the report and additional relevant code can be found in the data preparation.\n"
     ]
    }
   ],
   "source": [
    "print(\"This question has been answered in the report and additional relevant code can be found in the data preparation.\")\n",
    "\n",
    "random_state = 42\n",
    "\n",
    "models = {\n",
    "    \"GaussianNB\": GaussianNB(),\n",
    "    \"DummyClassifier\": DummyClassifier(strategy=\"most_frequent\"),\n",
    "    \"DecisionTreeClassifier\": DecisionTreeClassifier(max_depth=None, min_samples_leaf=2, random_state=random_state),\n",
    "    \"KNeighborsClassifier\": KNeighborsClassifier(n_neighbors=3, weights=\"distance\"),\n",
    "    # START ANSWER\n",
    "    # 𝐄𝐱𝐞𝐫𝐜𝐢𝐬𝐞 1  Extent the list of models with theSVC and LogisticRegression algorithms.\n",
    "    # Give the SVM a poly kernel. Also, give both algorithms a regularization constant C=0.5 and random_state=42.\n",
    "    \"SVM\": SVC(kernel='poly', C=10, random_state=42),\n",
    "    \"LogisticRegression\": LogisticRegression(C=10, random_state=42, penalty='none')\n",
    "    # END ANSWER\n",
    "}\n",
    "\n",
    "assert \"GaussianNB\" in models and isinstance(models[\"GaussianNB\"], GaussianNB), \"There is no GaussianNB in models\"\n",
    "assert \"DecisionTreeClassifier\" in models and isinstance(models[\"DecisionTreeClassifier\"],\n",
    "                                                         DecisionTreeClassifier), \"There is no DecisionTreeClassifier in models\"\n",
    "assert \"KNeighborsClassifier\" in models and isinstance(models[\"KNeighborsClassifier\"],\n",
    "                                                       KNeighborsClassifier), \"There is no KNeighborsClassifier in models\"\n",
    "assert \"SVM\" in models and isinstance(models[\"SVM\"], SVC), \"There is no SVC in models\"\n",
    "assert \"LogisticRegression\" in models and isinstance(models[\"LogisticRegression\"],\n",
    "                                                     LogisticRegression), \"There is no LogisticRegression in models\""
   ]
  },
  {
   "cell_type": "markdown",
   "metadata": {},
   "source": [
    "### Question 2"
   ]
  },
  {
   "cell_type": "code",
   "execution_count": 10,
   "metadata": {},
   "outputs": [
    {
     "name": "stderr",
     "output_type": "stream",
     "text": [
      "C:\\ProgramData\\Anaconda3\\lib\\site-packages\\sklearn\\linear_model\\_logistic.py:1320: UserWarning: Setting penalty='none' will ignore the C and l1_ratio parameters\n",
      "  warnings.warn(\n"
     ]
    },
    {
     "name": "stdout",
     "output_type": "stream",
     "text": [
      "GaussianNB28x28\n",
      "- accuracy_score 0.5466666666666666\n",
      "- f1_score 0.5222102330735034\n",
      "DummyClassifier28x28\n",
      "- accuracy_score 0.10577777777777778\n",
      "- f1_score 0.02023722758127903\n",
      "DecisionTreeClassifier28x28\n",
      "- accuracy_score 0.7004444444444444\n",
      "- f1_score 0.6986654406014072\n",
      "KNeighborsClassifier28x28\n",
      "- accuracy_score 0.9102222222222223\n",
      "- f1_score 0.9093299470235895\n",
      "SVM28x28\n",
      "- accuracy_score 0.9057777777777778\n",
      "- f1_score 0.9054170998865622\n",
      "LogisticRegression28x28\n",
      "- accuracy_score 0.8506666666666667\n",
      "- f1_score 0.8500829429538014\n"
     ]
    },
    {
     "name": "stderr",
     "output_type": "stream",
     "text": [
      "C:\\ProgramData\\Anaconda3\\lib\\site-packages\\sklearn\\linear_model\\_logistic.py:1320: UserWarning: Setting penalty='none' will ignore the C and l1_ratio parameters\n",
      "  warnings.warn(\n",
      "C:\\ProgramData\\Anaconda3\\lib\\site-packages\\sklearn\\linear_model\\_logistic.py:762: ConvergenceWarning: lbfgs failed to converge (status=1):\n",
      "STOP: TOTAL NO. of ITERATIONS REACHED LIMIT.\n",
      "\n",
      "Increase the number of iterations (max_iter) or scale the data as shown in:\n",
      "    https://scikit-learn.org/stable/modules/preprocessing.html\n",
      "Please also refer to the documentation for alternative solver options:\n",
      "    https://scikit-learn.org/stable/modules/linear_model.html#logistic-regression\n",
      "  n_iter_i = _check_optimize_result(\n"
     ]
    },
    {
     "name": "stdout",
     "output_type": "stream",
     "text": [
      "GaussianNB8x8\n",
      "- accuracy_score 0.5253333333333333\n",
      "- f1_score 0.5081681039276842\n",
      "DummyClassifier8x8\n",
      "- accuracy_score 0.10577777777777778\n",
      "- f1_score 0.02023722758127903\n",
      "DecisionTreeClassifier8x8\n",
      "- accuracy_score 0.7475555555555555\n",
      "- f1_score 0.747536015520293\n",
      "KNeighborsClassifier8x8\n",
      "- accuracy_score 0.8977777777777778\n",
      "- f1_score 0.8973426256664782\n",
      "SVM8x8\n",
      "- accuracy_score 0.8933333333333333\n",
      "- f1_score 0.8931482947497131\n",
      "LogisticRegression8x8\n",
      "- accuracy_score 0.8613333333333333\n",
      "- f1_score 0.8622021678017442\n"
     ]
    },
    {
     "data": {
      "image/png": "[encoded data removed]",
      "text/plain": [
       "<Figure size 432x288 with 1 Axes>"
      ]
     },
     "metadata": {
      "needs_background": "light"
     },
     "output_type": "display_data"
    },
    {
     "name": "stdout",
     "output_type": "stream",
     "text": [
      "(3750, 28, 28)\n",
      "(3750, 784)\n",
      "(3750, 8, 8)\n",
      "(3750, 64)\n"
     ]
    },
    {
     "data": {
      "image/png": "[encoded data removed]",
      "text/plain": [
       "<Figure size 432x288 with 1 Axes>"
      ]
     },
     "metadata": {
      "needs_background": "light"
     },
     "output_type": "display_data"
    }
   ],
   "source": [
    "from sklearn.preprocessing import Normalizer\n",
    "from sklearn.pipeline import Pipeline\n",
    "from sklearn.preprocessing import StandardScaler\n",
    "from sklearn.utils.validation import check_is_fitted\n",
    "from sklearn.metrics import make_scorer\n",
    "from sklearn.model_selection import KFold, cross_val_score\n",
    "from sklearn.model_selection import cross_validate\n",
    "from sklearn.metrics import f1_score, accuracy_score, log_loss, make_scorer\n",
    "from sklearn.metrics import f1_score, accuracy_score\n",
    "\n",
    "# 4. fit\n",
    "# 5. predict\n",
    "# 6. evaluate\n",
    "# 7. graph/plot\n",
    "# 8. analyze\n",
    "\n",
    "accuracies_28x28 = []\n",
    "accuracies_8x8 = []\n",
    "\n",
    "# The first plot is done using the simpler “Train-Test Evaluation With Correct Data Preparation” method.\n",
    "# 4. fit 28x28\n",
    "for name, model in models.items():\n",
    "    # START ANSWER\n",
    "    model.fit(scaled_X_train_28x28, y_train)\n",
    "    # END ANSWER\n",
    "\n",
    "for model in models.values():\n",
    "    check_is_fitted(model)\n",
    "\n",
    "# 5. predict 28x28 and # 6. evaluate 28x28\n",
    "for name, model in models.items():\n",
    "    predictions_28x28 = model.predict(scaled_X_test_28x28)\n",
    "    f1_score_value = f1_score(y_true=y_test, y_pred=predictions_28x28, average=\"weighted\")\n",
    "    accuracy = accuracy_score(y_true=y_test, y_pred=predictions_28x28)\n",
    "    accuracies_28x28 = np.append(accuracies_28x28, accuracy)\n",
    "    # logloss = log_loss(y_true=y_test, y_pred=model.predict_proba(scaled_X_test_28x28))\n",
    "    print(name + \"28x28\")\n",
    "    print(\"- accuracy_score\", accuracy)\n",
    "    print(\"- f1_score\", f1_score_value)\n",
    "    # print(\"- logloss\", logloss)\n",
    "\n",
    "# 4. fit 8x8\n",
    "for name, model in models.items():\n",
    "    # START ANSWER\n",
    "    model.fit(scaled_X_train_8x8, y_train)\n",
    "    # END ANSWER\n",
    "\n",
    "for model in models.values():\n",
    "    check_is_fitted(model)\n",
    "\n",
    "# 5. predict 8x8 and # 6. evaluate 8x8\n",
    "for name, model in models.items():\n",
    "    predictions_8x8 = model.predict(scaled_X_test_8x8)\n",
    "    f1_score_value = f1_score(y_true=y_test, y_pred=predictions_8x8, average=\"weighted\")\n",
    "    accuracy = accuracy_score(y_true=y_test, y_pred=predictions_8x8)\n",
    "    accuracies_8x8 = np.append(accuracies_8x8, accuracy)\n",
    "    print(name + \"8x8\")\n",
    "    print(\"- accuracy_score\", accuracy)\n",
    "    print(\"- f1_score\", f1_score_value)\n",
    "\n",
    "\n",
    "# create plot\n",
    "def create_comparison_plot(a, b):\n",
    "    fig, ax = plt.subplots()\n",
    "\n",
    "    bar_width = 0.35\n",
    "    X = np.arange(6)\n",
    "\n",
    "    p1 = plt.bar(X, a, bar_width, color='b',\n",
    "                 label='28x28 dataset')\n",
    "\n",
    "    # The bar of second plot starts where the first bar ends\n",
    "    p2 = plt.bar(X + bar_width, b, bar_width,\n",
    "                 color='g',\n",
    "                 label='8x8 dataset')\n",
    "\n",
    "    plt.xlabel('Algorithms')\n",
    "    plt.ylabel('Accuracy Scores')\n",
    "    plt.title('Performance of different algorithms on the 28x28 vs 8x8 datasets')\n",
    "    plt.xticks(X + (bar_width / 2), (\n",
    "        'GaussianNB', 'Dummy', 'DecisionTree', 'KNN', 'SVM', 'LogisticR'))\n",
    "    plt.legend()\n",
    "\n",
    "    def autolabel(ps):\n",
    "        \"\"\"Attach a text label above each bar in *rects*, displaying its height.\"\"\"\n",
    "        for rect in ps:\n",
    "            height = np.round(rect.get_height(), 2)\n",
    "            ax.annotate('{}'.format(height),\n",
    "                        xy=(rect.get_x() + rect.get_width() / 2, height),\n",
    "                        xytext=(0, 3),  # 3 points vertical offset\n",
    "                        textcoords=\"offset points\",\n",
    "                        ha='center', va='bottom')\n",
    "\n",
    "    autolabel(p1)\n",
    "    autolabel(p2)\n",
    "\n",
    "    plt.tight_layout()\n",
    "    plt.show()\n",
    "\n",
    "\n",
    "create_comparison_plot(accuracies_28x28, accuracies_8x8)\n",
    "\n",
    "\n",
    "# The second plot is “Cross-Validation Evaluation With Correct Data Preparation” using pipelines.\n",
    "def flatten_features(X):\n",
    "    X = X.reshape(X.shape[0], -1)\n",
    "    return X\n",
    "\n",
    "\n",
    "cross_val_scores_28x28 = []\n",
    "cross_val_scores_8x8 = []\n",
    "\n",
    "print(mnist_28x28_train.shape)\n",
    "flat_mnist_28x28_train = flatten_features(mnist_28x28_train)\n",
    "print(flat_mnist_28x28_train.shape)\n",
    "\n",
    "print(mnist_8x8_train.shape)\n",
    "flat_mnist_8x8_train = flatten_features(mnist_8x8_train)\n",
    "print(flat_mnist_8x8_train.shape)\n",
    "\n",
    "for name, model in models.items():\n",
    "    # define the pipeline\n",
    "\n",
    "    steps = list()\n",
    "    steps.append(('scaler', Normalizer()))\n",
    "    steps.append((name, model))\n",
    "    pipeline = Pipeline(steps=steps)\n",
    "\n",
    "    n_splits = 5\n",
    "\n",
    "    # define the evaluation procedure\n",
    "    cv = KFold(n_splits=n_splits, random_state=42, shuffle=True)\n",
    "    # evaluate the model using cross-validation\n",
    "    score = cross_val_score(pipeline, flat_mnist_28x28_train, train_labels, scoring='accuracy', cv=cv,\n",
    "                            n_jobs=-1)\n",
    "    cross_val_scores_28x28 = np.append(cross_val_scores_28x28, np.mean(score))\n",
    "\n",
    "for name, model in models.items():\n",
    "    # define the pipeline\n",
    "\n",
    "    steps = list()\n",
    "    steps.append(('scaler', Normalizer()))\n",
    "    steps.append((name, model))\n",
    "    pipeline = Pipeline(steps=steps)\n",
    "\n",
    "    n_splits = 5\n",
    "\n",
    "    # define the evaluation procedure\n",
    "    cv = KFold(n_splits=n_splits, random_state=42, shuffle=True)\n",
    "    # evaluate the model using cross-validation\n",
    "    score = cross_val_score(pipeline, flat_mnist_8x8_train, train_labels, scoring='accuracy', cv=cv,\n",
    "                            n_jobs=-1)\n",
    "    cross_val_scores_8x8 = np.append(cross_val_scores_8x8, np.mean(score))\n",
    "\n",
    "# Cross validation plot\n",
    "fig, ax = plt.subplots()\n",
    "\n",
    "bar_width = 0.35\n",
    "X = np.arange(6)\n",
    "\n",
    "p1 = plt.bar(X, cross_val_scores_28x28, bar_width, color='r',\n",
    "             label='28x28 dataset')\n",
    "\n",
    "# The bar of second plot starts where the first bar ends\n",
    "p2 = plt.bar(X + bar_width, cross_val_scores_8x8, bar_width,\n",
    "             color='m',\n",
    "             label='8x8 dataset')\n",
    "\n",
    "plt.xlabel('Algorithms')\n",
    "plt.ylabel('Cross Val Scores')\n",
    "plt.title('Cross Val Performance of algorithms on the 28x28 vs 8x8 datasets')\n",
    "plt.xticks(X + (bar_width / 2), (\n",
    "    'GaussianNB', 'Dummy', 'DecisionTree', 'KNN', 'SVM', 'LogisticR'))\n",
    "plt.legend()\n",
    "\n",
    "\n",
    "def autolabel(ps):\n",
    "    \"\"\"Attach a text label above each bar in *rects*, displaying its height.\"\"\"\n",
    "    for rect in ps:\n",
    "        height = np.round(rect.get_height(), 2)\n",
    "        ax.annotate('{}'.format(height),\n",
    "                    xy=(rect.get_x() + rect.get_width() / 2, height),\n",
    "                    xytext=(0, 3),  # 3 points vertical offset\n",
    "                    textcoords=\"offset points\",\n",
    "                    ha='center', va='bottom')\n",
    "\n",
    "\n",
    "autolabel(p1)\n",
    "autolabel(p2)\n",
    "\n",
    "plt.tight_layout()\n",
    "plt.show()\n"
   ]
  },
  {
   "cell_type": "markdown",
   "metadata": {},
   "source": [
    "### Question 3"
   ]
  },
  {
   "cell_type": "code",
   "execution_count": 11,
   "metadata": {},
   "outputs": [
    {
     "name": "stdout",
     "output_type": "stream",
     "text": [
      "GaussianNB\n",
      "- best_score = 0.5551977084827515\n",
      "best parameters:\n",
      "DummyClassifier\n",
      "- best_score = 0.017343388267019345\n",
      "best parameters:\n",
      "DecisionTreeClassifier\n",
      "- best_score = 0.7350274447741012\n",
      "best parameters:\n",
      "- DecisionTreeClassifier__max_depth 9\n",
      "- DecisionTreeClassifier__min_samples_leaf 1\n",
      "- DecisionTreeClassifier__random_state 42\n",
      "KNeighborsClassifier\n",
      "- best_score = 0.9418903107086362\n",
      "best parameters:\n",
      "- KNeighborsClassifier__n_neighbors 4\n",
      "- KNeighborsClassifier__weights distance\n",
      "SVM\n",
      "- best_score = 0.9572613664008429\n",
      "best parameters:\n",
      "- SVM__C 3\n",
      "- SVM__kernel poly\n",
      "- SVM__random_state 42\n"
     ]
    },
    {
     "name": "stderr",
     "output_type": "stream",
     "text": [
      "C:\\ProgramData\\Anaconda3\\lib\\site-packages\\sklearn\\linear_model\\_logistic.py:762: ConvergenceWarning: lbfgs failed to converge (status=1):\n",
      "STOP: TOTAL NO. of ITERATIONS REACHED LIMIT.\n",
      "\n",
      "Increase the number of iterations (max_iter) or scale the data as shown in:\n",
      "    https://scikit-learn.org/stable/modules/preprocessing.html\n",
      "Please also refer to the documentation for alternative solver options:\n",
      "    https://scikit-learn.org/stable/modules/linear_model.html#logistic-regression\n",
      "  n_iter_i = _check_optimize_result(\n"
     ]
    },
    {
     "name": "stdout",
     "output_type": "stream",
     "text": [
      "LogisticRegression\n",
      "- best_score = 0.8946120728262758\n",
      "best parameters:\n",
      "- LogisticRegression__C 9\n",
      "- LogisticRegression__penalty l2\n",
      "- LogisticRegression__random_state 42\n",
      "GaussianNB\n",
      "- best_score = 0.5811206621158739\n",
      "best parameters:\n",
      "DummyClassifier\n",
      "- best_score = 0.017343388267019345\n",
      "best parameters:\n",
      "DecisionTreeClassifier\n",
      "- best_score = 0.7535267641170078\n",
      "best parameters:\n",
      "- DecisionTreeClassifier__max_depth 9\n",
      "- DecisionTreeClassifier__min_samples_leaf 1\n",
      "- DecisionTreeClassifier__random_state 42\n",
      "KNeighborsClassifier\n",
      "- best_score = 0.940993270523626\n",
      "best parameters:\n",
      "- KNeighborsClassifier__n_neighbors 4\n",
      "- KNeighborsClassifier__weights uniform\n",
      "SVM\n",
      "- best_score = 0.9538229692588491\n",
      "best parameters:\n",
      "- SVM__C 9\n",
      "- SVM__kernel rbf\n",
      "- SVM__random_state 42\n"
     ]
    },
    {
     "name": "stderr",
     "output_type": "stream",
     "text": [
      "C:\\ProgramData\\Anaconda3\\lib\\site-packages\\sklearn\\linear_model\\_logistic.py:762: ConvergenceWarning: lbfgs failed to converge (status=1):\n",
      "STOP: TOTAL NO. of ITERATIONS REACHED LIMIT.\n",
      "\n",
      "Increase the number of iterations (max_iter) or scale the data as shown in:\n",
      "    https://scikit-learn.org/stable/modules/preprocessing.html\n",
      "Please also refer to the documentation for alternative solver options:\n",
      "    https://scikit-learn.org/stable/modules/linear_model.html#logistic-regression\n",
      "  n_iter_i = _check_optimize_result(\n"
     ]
    },
    {
     "name": "stdout",
     "output_type": "stream",
     "text": [
      "LogisticRegression\n",
      "- best_score = 0.8964331276307884\n",
      "best parameters:\n",
      "- LogisticRegression__C 11\n",
      "- LogisticRegression__penalty l2\n",
      "- LogisticRegression__random_state 42\n"
     ]
    },
    {
     "data": {
      "image/png": "[encoded data removed]",
      "text/plain": [
       "<Figure size 432x288 with 1 Axes>"
      ]
     },
     "metadata": {
      "needs_background": "light"
     },
     "output_type": "display_data"
    }
   ],
   "source": [
    "# use flat features\n",
    "# pipes\n",
    "# scaling\n",
    "# gridsearch\n",
    "# 1 plot with f1 score 1 plot with accuracy score mean\n",
    "\n",
    "from sklearn.model_selection import GridSearchCV\n",
    "\n",
    "random_state = 42\n",
    "n_splits = 5\n",
    "scoring_method = make_scorer(lambda prediction, true_target: f1_score(prediction, true_target, average=\"weighted\"))\n",
    "\n",
    "model_parameters = {\n",
    "    \"GaussianNB\": {\n",
    "\n",
    "    },\n",
    "    \"DummyClassifier\": {\n",
    "\n",
    "    },\n",
    "    \"DecisionTreeClassifier\": {\n",
    "        'DecisionTreeClassifier__random_state': [random_state],\n",
    "        'DecisionTreeClassifier__max_depth': np.arange(1, 10),\n",
    "        'DecisionTreeClassifier__min_samples_leaf': np.arange(1, 5)\n",
    "\n",
    "    },\n",
    "    # START ANSWER\n",
    "    \"KNeighborsClassifier\": {\n",
    "        'KNeighborsClassifier__n_neighbors': range(1, 5),\n",
    "        'KNeighborsClassifier__weights': ['uniform', 'distance']\n",
    "    },\n",
    "    \"SVM\": {\n",
    "        'SVM__random_state': [random_state],\n",
    "        'SVM__C': np.arange(1, 15, 2),\n",
    "        'SVM__kernel': ['linear', 'poly', 'rbf'],\n",
    "    },\n",
    "    \"LogisticRegression\": {\n",
    "        'LogisticRegression__random_state': [random_state],\n",
    "        'LogisticRegression__C': np.arange(1, 15, 2),\n",
    "        'LogisticRegression__penalty': ['l1', 'l2', 'elasticnet', 'none']\n",
    "    }\n",
    "    # END ANSWER\n",
    "}\n",
    "\n",
    "gridcv_best_28x28 = []\n",
    "gridcv_best_8x8 = []\n",
    "\n",
    "for model_name, parameters in model_parameters.items():\n",
    "    model = models[model_name]\n",
    "\n",
    "    steps = list()\n",
    "    steps.append(('scaler', Normalizer()))\n",
    "    steps.append((model_name, model))\n",
    "    pipeline = Pipeline(steps=steps)\n",
    "\n",
    "    cv = KFold(n_splits=n_splits, random_state=random_state, shuffle=True)\n",
    "    grid_search = GridSearchCV(pipeline, parameters, cv=cv, n_jobs=-1, verbose=False, scoring=scoring_method).fit(\n",
    "        flat_mnist_28x28_train, train_labels)\n",
    "\n",
    "    best_model = grid_search.best_estimator_\n",
    "    best_score = grid_search.best_score_\n",
    "    best_params = grid_search.best_params_\n",
    "\n",
    "    gridcv_best_28x28 = np.append(gridcv_best_28x28, best_score)\n",
    "\n",
    "    print(model_name)\n",
    "    print(\"- best_score =\", best_score)\n",
    "    print(\"best parameters:\")\n",
    "    for k, v in best_params.items():\n",
    "        print(\"-\", k, v)\n",
    "\n",
    "for model_name, parameters in model_parameters.items():\n",
    "    model = models[model_name]\n",
    "\n",
    "    steps = list()\n",
    "    steps.append(('scaler', Normalizer()))\n",
    "    steps.append((model_name, model))\n",
    "    pipeline = Pipeline(steps=steps)\n",
    "\n",
    "    cv = KFold(n_splits=n_splits, random_state=random_state, shuffle=True)\n",
    "    grid_search = GridSearchCV(pipeline, parameters, cv=cv, n_jobs=-1, verbose=False, scoring=scoring_method).fit(\n",
    "        flat_mnist_8x8_train, train_labels)\n",
    "\n",
    "    best_model = grid_search.best_estimator_\n",
    "    best_score = grid_search.best_score_\n",
    "    best_params = grid_search.best_params_\n",
    "\n",
    "    gridcv_best_8x8 = np.append(gridcv_best_8x8, best_score)\n",
    "\n",
    "    print(model_name)\n",
    "    print(\"- best_score =\", best_score)\n",
    "    print(\"best parameters:\")\n",
    "    for k, v in best_params.items():\n",
    "        print(\"-\", k, v)\n",
    "\n",
    "# Cross validation plot\n",
    "fig, ax = plt.subplots()\n",
    "\n",
    "bar_width = 0.35\n",
    "X = np.arange(6)\n",
    "\n",
    "p1 = plt.bar(X, gridcv_best_28x28, bar_width, color='c',\n",
    "             label='28x28 dataset')\n",
    "\n",
    "# The bar of second plot starts where the first bar ends\n",
    "p2 = plt.bar(X + bar_width, gridcv_best_8x8, bar_width,\n",
    "             color='y',\n",
    "             label='8x8 dataset')\n",
    "\n",
    "plt.xlabel('Algorithms')\n",
    "plt.ylabel('Tuned Accuracy Scores')\n",
    "plt.title('Tuned GridSearchCV Performance of algorithms on the 28x28 vs 8x8 datasets')\n",
    "plt.xticks(X + (bar_width / 2), (\n",
    "    'GaussianNB', 'Dummy', 'DecisionTree', 'KNN', 'SVM', 'LogisticR'))\n",
    "plt.legend()\n",
    "\n",
    "\n",
    "def autolabel(ps):\n",
    "    \"\"\"Attach a text label above each bar in *rects*, displaying its height.\"\"\"\n",
    "    for rect in ps:\n",
    "        height = np.round(rect.get_height(), 2)\n",
    "        ax.annotate('{}'.format(height),\n",
    "                    xy=(rect.get_x() + rect.get_width() / 2, height),\n",
    "                    xytext=(0, 3),  # 3 points vertical offset\n",
    "                    textcoords=\"offset points\",\n",
    "                    ha='center', va='bottom')\n",
    "\n",
    "\n",
    "autolabel(p1)\n",
    "autolabel(p2)\n",
    "\n",
    "plt.tight_layout()\n",
    "plt.show()\n"
   ]
  },
  {
   "cell_type": "markdown",
   "metadata": {},
   "source": [
    "### Question 4 "
   ]
  },
  {
   "cell_type": "code",
   "execution_count": 13,
   "metadata": {},
   "outputs": [
    {
     "ename": "SyntaxError",
     "evalue": "invalid syntax (<ipython-input-13-0bb6bd25547a>, line 1)",
     "output_type": "error",
     "traceback": [
      "\u001b[1;36m  File \u001b[1;32m\"<ipython-input-13-0bb6bd25547a>\"\u001b[1;36m, line \u001b[1;32m1\u001b[0m\n\u001b[1;33m    print(This question is answered in the report.)\u001b[0m\n\u001b[1;37m               ^\u001b[0m\n\u001b[1;31mSyntaxError\u001b[0m\u001b[1;31m:\u001b[0m invalid syntax\n"
     ]
    }
   ],
   "source": [
    "print(This question is answered in the report.)"
   ]
  },
  {
   "cell_type": "markdown",
   "metadata": {},
   "source": [
    "### Question 5"
   ]
  },
  {
   "cell_type": "code",
   "execution_count": null,
   "metadata": {},
   "outputs": [],
   "source": [
    "print(This question is answered in the report.)"
   ]
  },
  {
   "cell_type": "markdown",
   "metadata": {},
   "source": [
    "### Question 6"
   ]
  },
  {
   "cell_type": "code",
   "execution_count": 15,
   "metadata": {},
   "outputs": [
    {
     "name": "stdout",
     "output_type": "stream",
     "text": [
      "[4 3 1 ... 6 6 5]\n"
     ]
    }
   ],
   "source": [
    "from sklearn.preprocessing import Normalizer\n",
    "\n",
    "def flatten_features(X):\n",
    "    X = X.reshape(X.shape[0], -1)\n",
    "    return X\n",
    "\n",
    "final_X_train_28x28 = mnist_28x28_train.copy()\n",
    "flat_final_X_train_28x28 = flatten_features(final_X_train_28x28)\n",
    "\n",
    "final_X_test_28x28 = mnist_28x28_test.copy()\n",
    "flat_final_X_test_28x28 = flatten_features(final_X_test_28x28)\n",
    "\n",
    "\n",
    "scaler = Normalizer()\n",
    "\n",
    "scaler.fit(flat_final_X_train_28x28)\n",
    "\n",
    "scaled_final_X_train_28x28 = scaler.transform(flat_final_X_train_28x28)\n",
    "scaled_final_X_test_28x28 = scaler.transform(flat_final_X_test_28x28)\n",
    "\n",
    "final_SVC_clf = SVC(kernel='poly', C=3, random_state=42)\n",
    "\n",
    "final_SVC_clf.fit(scaled_final_X_train_28x28, train_labels)\n",
    "\n",
    "final_prediction = final_SVC_clf.predict(scaled_final_X_test_28x28)\n",
    "\n",
    "print(final_prediction)\n",
    "\n",
    "prediction = np.array(final_prediction) #TODO replace this with you own prediction\n",
    "pd.DataFrame(prediction).to_csv(\"GROUP_classes_problem_mnist.txt\", index=False, header=False)"
   ]
  },
  {
   "cell_type": "code",
   "execution_count": null,
   "metadata": {},
   "outputs": [],
   "source": []
  }
 ],
 "metadata": {
  "kernelspec": {
   "display_name": "Python 3",
   "language": "python",
   "name": "python3"
  },
  "language_info": {
   "codemirror_mode": {
    "name": "ipython",
    "version": 3
   },
   "file_extension": ".py",
   "mimetype": "text/x-python",
   "name": "python",
   "nbconvert_exporter": "python",
   "pygments_lexer": "ipython3",
   "version": "3.8.3"
  }
 },
 "nbformat": 4,
 "nbformat_minor": 4
}
